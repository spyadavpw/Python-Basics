{
  "nbformat": 4,
  "nbformat_minor": 0,
  "metadata": {
    "colab": {
      "provenance": []
    },
    "kernelspec": {
      "name": "python3",
      "display_name": "Python 3"
    },
    "language_info": {
      "name": "python"
    }
  },
  "cells": [
    {
      "cell_type": "markdown",
      "source": [
        "# **Python Basics**"
      ],
      "metadata": {
        "id": "RmPPgZzH_m4E"
      }
    },
    {
      "cell_type": "markdown",
      "source": [
        "1. What is Python, and why is it popular?\n",
        "-> Python is a high-lavel, versatile programming language known for its readability and ease of use.\n",
        "2.What is an interpreter in Python?\n",
        "->In Paython,an interpreter is a program that reads and executes python code line by line rather than compiling the entire program into machine code at once.\n",
        "3. What are pre-defined keywords in Python?\n",
        "-> Predefined keywords in Python are reserved words that possess special meanings and functionalities within the language. These keywords are integral to the syntax and structure of Python programs and cannot be used as identifiers (e.g., variable names, function names,class names).\n",
        "4. Can keywords be used as variable names?\n",
        "-> No, keywords cannot be used as variable names. Keywords are reserved words in a programming language that have predefined meanings and are used to define the language's syntax and structure. Using them as variable names would create conflicts and lead to syntax errors.\n",
        "5. What is mutability in Python?\n",
        "-> Mutability in Python refers to the ability of an object to be modified after it has been created. If an object is mutable, its internal state or value can be changed without creating a new object in memory. Conversely, if an object is immutable, its value cannot be altered once it is created; any operation that appears to modify an immutable object actually results in the creation of a new object with the desired changes.\n",
        "6. Why are lists mutable, but tuples are immutable?\n",
        "-> Tuples and lists are the same in every way except two: tuples use parentheses instead of square brackets, and the items in tuples cannot be modified (but the items in lists can be modified). We often call lists mutable (meaning they can be changed) and tuples immutable (meaning they cannot be changed).\n",
        "7. What is the difference between “==” and “is” operators in Python?\n",
        "-> In Python, the == and is operators are used for comparison, but they evaluate different aspects of the objects being compared.\n",
        "== (Equality Operator): This operator compares the values of two objects. It checks if the content or data held by the objects is the same. When x == y is evaluated, Python essentially calls the _eq_ method of object x to determine if its value is equal to the value of object y.\n",
        "8. What are logical operators in Python?\n",
        "-> Logical operators in Python combine two or more operands and conduct logical comparisons on them. There are three types, i.e., AND, OR, and NOT. They return a boolean value, i.e., True or False.\n",
        "9. What is type casting in Python?\n",
        "-> Logical operators in Python combine two or more operands and conduct logical comparisons on them. There are three types, i.e., AND, OR, and NOT. They return a boolean value, i.e., True or False.\n",
        "10. What is the difference between implicit and explicit type casting?\n",
        "-> Implicit and explicit type casting differ in how the data type conversion is initiated. Implicit casting, also known as widening or automatic type conversion, occurs automatically by the compiler when it can be safely done without data loss. Explicit casting, or narrowing, requires the programmer to specify the conversion using a cast operator, as it may involve potential data loss or require handling potential errors.\n",
        "11. What is the purpose of conditional statements in Python?\n",
        "-> The purpose of conditional statements in Python is to control the flow of execution within a program based on whether specific conditions are met. These statements enable programs to make decisions and perform different actions depending on the evaluation of a given condition\n",
        "The primary conditional statements in Python are if, elif (else if), and else:\n",
        "if statement: Executes a block of code only if a specified condition evaluates to True.\n",
        "elif statement: Provides an alternative condition to be checked if the preceding if or elif conditions evaluate to False. Multiple elif statements can be used to handle various possible conditions.\n",
        "else statement: Executes a block of code if all preceding if and elif conditions evaluate to False. It acts as a default or fallback action.\n",
        "12. How does the elif statement work?\n",
        "-> 'Elif' stands for 'else if' and is used in Python programming to test multiple conditions. It is written following an if statement in Python to check an alternative condition if the first condition is false. The code block under the elif statement will be executed only if its condition is true.\n",
        "13. What is the difference between for and while loops.\n",
        "->The main difference between for and while loops lies in their intended use cases: for loops are ideal when you know how many times you need to iterate, while while loops are better when the number of iterations is uncertain and depends on a condition.\n",
        "\n",
        "for (let i = 0; i < 10; i++) { // code to be executed } (in this example the loop runs 10 times).\n",
        "13. Describe a scenario where a while loop is more suitable than a for loop?\n",
        "-> In contrast to a 'for' loop, which is generally used when the number of iterations is known beforehand, a 'while' loop is ideal for situations where the number of iterations is not predetermined and depends on some dynamic condition.\n",
        "14. Describe a scenario where a while loop is more suitable than a for loop?\n",
        "->A 'While Loop' is more appropriate when you need to iterate until a condition is met without knowing the number of iterations in advance. This makes it suitable for situations like processing user guesses for a secret number.\n",
        "\n",
        "\n",
        "\n",
        "\n",
        "\n"
      ],
      "metadata": {
        "id": "3PqSh99d_9I1"
      }
    },
    {
      "cell_type": "code",
      "source": [],
      "metadata": {
        "id": "DR4FRo9g_zVu"
      },
      "execution_count": null,
      "outputs": []
    },
    {
      "cell_type": "markdown",
      "source": [],
      "metadata": {
        "id": "lV1UdJ7jCIai"
      }
    }
  ]
}